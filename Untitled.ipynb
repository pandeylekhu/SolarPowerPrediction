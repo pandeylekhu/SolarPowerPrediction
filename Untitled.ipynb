{
 "cells": [
  {
   "cell_type": "code",
   "execution_count": 1,
   "metadata": {},
   "outputs": [],
   "source": [
    "import pandas as pd\n",
    "import numpy as np\n",
    "from datetime import datetime,timedelta\n",
    "from dateutil.relativedelta import relativedelta"
   ]
  },
  {
   "cell_type": "code",
   "execution_count": 315,
   "metadata": {},
   "outputs": [],
   "source": [
    "to_yymmdd = lambda dt: datetime.strptime(dt, \"%d%m%d\")\n",
    "to_mmddyyyyHHMM = lambda dt: datetime.strptime(dt, \"%m/%d/%Y %H:%M\")\n",
    "df_power=pd.read_csv('power_actual.csv',index_col=0,converters={'datetime':to_mmddyyyyHHMM})\n",
    "df_wether=pd.read_csv('weather_actuals.csv',index_col=0,converters={'datetime_utc':to_mmddyyyyHHMM,'datetime_local':to_mmddyyyyHHMM,'sunrise':to_mmddyyyyHHMM,'sunset':to_mmddyyyyHHMM,'updated_at':to_mmddyyyyHHMM})"
   ]
  },
  {
   "cell_type": "code",
   "execution_count": 316,
   "metadata": {},
   "outputs": [
    {
     "name": "stdout",
     "output_type": "stream",
     "text": [
      "[ 0. nan]\n",
      "[ 0. nan]\n",
      "[0.00000e+00 8.00000e-02 3.40000e-01 ... 5.60224e+03 3.92693e+03\n",
      " 2.61160e+03]\n"
     ]
    }
   ],
   "source": [
    "print(df_power.ghi.unique())\n",
    "print(df_power.gti.unique())\n",
    "print(df_power.power.unique())"
   ]
  },
  {
   "cell_type": "markdown",
   "metadata": {},
   "source": [
    "<h4> Looking at the unique values in columns ghi and gti, we can say that these columns are either irrelevant for the data provided for these columns are incorrect.<br>\n",
    "Hence we can drop these columns</h4>"
   ]
  },
  {
   "cell_type": "code",
   "execution_count": 317,
   "metadata": {},
   "outputs": [],
   "source": [
    "df_power.drop(['ghi','gti'],axis=1,inplace=True)"
   ]
  },
  {
   "cell_type": "code",
   "execution_count": 318,
   "metadata": {},
   "outputs": [
    {
     "data": {
      "text/plain": [
       "datetime    0\n",
       "power       0\n",
       "dtype: int64"
      ]
     },
     "execution_count": 318,
     "metadata": {},
     "output_type": "execute_result"
    }
   ],
   "source": [
    "df_power.isna().sum()"
   ]
  },
  {
   "cell_type": "code",
   "execution_count": 319,
   "metadata": {},
   "outputs": [
    {
     "name": "stdout",
     "output_type": "stream",
     "text": [
      "Number of records, power generated after  5  AM and before  5  PM: 27998\n",
      "Number of records, no power generated after  5  AM and before  5  PM: 9962\n",
      "Number of records, power generated after  6  AM and before  6  PM: 27998\n",
      "Number of records, no power generated after  6  AM and before  6  PM: 9962\n",
      "Number of records, power generated after  7  AM and before  7  PM: 26900\n",
      "Number of records, no power generated after  7  AM and before  7  PM: 11060\n",
      "Number of records, power generated after  8  AM and before  8  PM: 24624\n",
      "Number of records, no power generated after  8  AM and before  8  PM: 13336\n",
      "Number of records, power generated after  9  AM and before  9  PM: 22136\n",
      "Number of records, no power generated after  9  AM and before  9  PM: 15824\n",
      "Number of records, power generated after  10  AM and before  10  PM: 19619\n",
      "Number of records, no power generated after  10  AM and before  10  PM: 18341\n",
      "Total Number of records: 32120\n",
      "Number of records, power generated before 6 AM and after 6 PM: 0\n",
      "Number of records, no power generated before 6 AM and after 6 PM: 32120\n"
     ]
    }
   ],
   "source": [
    "for hh in range(5,11):\n",
    "    df_power2=df_power[(df_power.datetime.dt.hour>=hh) & (df_power.datetime.dt.hour<=hh+12)]\n",
    "    print('Number of records, power generated after ',hh,' AM and before ',hh,' PM:',df_power2[df_power2.power!=0].shape[0])\n",
    "    print('Number of records, no power generated after ',hh,' AM and before ',hh,' PM:',df_power2[df_power2.power==0].shape[0])\n",
    "del(df_power2)    \n",
    "df_power2=df_power[(df_power.datetime.dt.hour<6) | (df_power.datetime.dt.hour>18)]\n",
    "print('Total Number of records:',df_power2.shape[0])\n",
    "print('Number of records, power generated before 6 AM and after 6 PM:',df_power2[df_power2.power!=0].shape[0])\n",
    "print('Number of records, no power generated before 6 AM and after 6 PM:',df_power2[df_power2.power==0].shape[0])\n",
    "del(df_power2)"
   ]
  },
  {
   "cell_type": "markdown",
   "metadata": {},
   "source": [
    "<h3>Selected the time frame between 6AM to 6PM as out of this window there is no power generated.</h3>"
   ]
  },
  {
   "cell_type": "code",
   "execution_count": 320,
   "metadata": {},
   "outputs": [
    {
     "name": "stdout",
     "output_type": "stream",
     "text": [
      "Number of records, power generated after 6 AM and before 6 PM: 27998\n",
      "Number of records, no power generated after 6 AM and before 6 PM: 9962\n"
     ]
    }
   ],
   "source": [
    "df_power=df_power[(df_power.datetime.dt.hour>=6) & (df_power.datetime.dt.hour<=18)]\n",
    "print('Number of records, power generated after 6 AM and before 6 PM:',df_power[df_power.power!=0].shape[0])\n",
    "print('Number of records, no power generated after 6 AM and before 6 PM:',df_power[df_power.power==0].shape[0])\n",
    "df_power.sort_values('datetime',ascending=True,inplace=True)\n",
    "df_wether2=df_wether[(df_wether.datetime_local.dt.hour>=6) & (df_wether.datetime_local.dt.hour<=18)]"
   ]
  },
  {
   "cell_type": "markdown",
   "metadata": {},
   "source": [
    "<h3> Looking at the data we can see that the whether forecast is available for next 5.30 mins ahead of time. Using which we can predict next 15 mins power generation of solar system.</h3>\n",
    "<h3> Considering this we take leads of each 15 mins of the power data and use hourly data for trainging the algorithm.</h3>"
   ]
  },
  {
   "cell_type": "code",
   "execution_count": 321,
   "metadata": {},
   "outputs": [],
   "source": [
    "df_power['lead_15Mins']=df_power['power'].shift(-1)\n",
    "df_power['lead_30Mins']=df_power['power'].shift(-2)\n",
    "df_power['lead_45Mins']=df_power['power'].shift(-3)\n",
    "df_power['lead_60Mins']=df_power['power'].shift(-4)\n",
    "df_power=df_power[df_power.datetime.dt.minute==0].drop('power',axis=1)"
   ]
  },
  {
   "cell_type": "markdown",
   "metadata": {},
   "source": [
    "<h4>Check for the NAN values and treat them</h4>"
   ]
  },
  {
   "cell_type": "code",
   "execution_count": 322,
   "metadata": {},
   "outputs": [
    {
     "data": {
      "text/plain": [
       "wind_chill             5349\n",
       "heat_index             5349\n",
       "qpf                    5349\n",
       "snow                   5349\n",
       "pop                    5349\n",
       "fctcode                5349\n",
       "precip_accumulation    5349\n",
       "precip_type            3723\n",
       "dtype: int64"
      ]
     },
     "execution_count": 322,
     "metadata": {},
     "output_type": "execute_result"
    }
   ],
   "source": [
    "df_wether2.isna().sum()[df_wether2.isna().sum()>0]"
   ]
  },
  {
   "cell_type": "code",
   "execution_count": 323,
   "metadata": {},
   "outputs": [
    {
     "name": "stdout",
     "output_type": "stream",
     "text": [
      "[-9999.    nan]\n",
      "[-9999.    nan]\n",
      "[-9999.    nan]\n",
      "[-9999.    nan]\n",
      "[-9999.    nan]\n",
      "[-9999.    nan]\n",
      "[-9999.    nan]\n",
      "['rain' '-9999' nan]\n"
     ]
    }
   ],
   "source": [
    "print(df_wether2.wind_chill.unique())\n",
    "print(df_wether2.heat_index.unique())\n",
    "print(df_wether2.qpf.unique())\n",
    "print(df_wether2.snow.unique())\n",
    "print(df_wether2['pop'].unique())\n",
    "print(df_wether2.fctcode.unique())\n",
    "print(df_wether2.precip_accumulation.unique())\n",
    "print(df_wether2.precip_type.unique())"
   ]
  },
  {
   "cell_type": "markdown",
   "metadata": {},
   "source": [
    "<h4> Looking at the unique values in columns except for Precip_type column, we can say that these columns are either irrelevant or the data provided for these columns are incorrect.<br>\n",
    "Hence we can drop these columns and treat Precip_type column</h4>"
   ]
  },
  {
   "cell_type": "code",
   "execution_count": 324,
   "metadata": {},
   "outputs": [
    {
     "name": "stderr",
     "output_type": "stream",
     "text": [
      "C:\\Users\\Lekhu\\AppData\\Roaming\\Python\\Python37\\site-packages\\ipykernel_launcher.py:3: SettingWithCopyWarning: \n",
      "A value is trying to be set on a copy of a slice from a DataFrame\n",
      "\n",
      "See the caveats in the documentation: http://pandas.pydata.org/pandas-docs/stable/user_guide/indexing.html#returning-a-view-versus-a-copy\n",
      "  This is separate from the ipykernel package so we can avoid doing imports until\n"
     ]
    }
   ],
   "source": [
    "df_wether2.drop(['wind_chill','heat_index','qpf','snow','pop','fctcode','precip_accumulation'],axis=1,inplace=True)\n",
    "df_wether2.fillna('-9999.',inplace=True)\n",
    "df_wether2.sort_values('datetime_local',inplace=True)"
   ]
  },
  {
   "cell_type": "code",
   "execution_count": 325,
   "metadata": {},
   "outputs": [
    {
     "name": "stdout",
     "output_type": "stream",
     "text": [
      "<class 'pandas.core.frame.DataFrame'>\n",
      "Int64Index: 7377 entries, 6 to 13613\n",
      "Data columns (total 23 columns):\n",
      "plant_id                7377 non-null int64\n",
      "datetime_utc            7377 non-null datetime64[ns]\n",
      "datetime_local          7377 non-null datetime64[ns]\n",
      "cloud_cover             7377 non-null float64\n",
      "apparent_temperature    7377 non-null float64\n",
      "temperature             7377 non-null int64\n",
      "humidity                7377 non-null int64\n",
      "dew_point               7377 non-null float64\n",
      "wind_bearing            7377 non-null int64\n",
      "wind_speed              7377 non-null float64\n",
      "wind_gust               7377 non-null float64\n",
      "pressure                7377 non-null float64\n",
      "uv_index                7377 non-null int64\n",
      "ozone                   7377 non-null float64\n",
      "precip_intensity        7377 non-null float64\n",
      "precip_probability      7377 non-null float64\n",
      "precip_type             7377 non-null object\n",
      "visibility              7377 non-null float64\n",
      "sunrise                 7377 non-null datetime64[ns]\n",
      "sunset                  7377 non-null datetime64[ns]\n",
      "icon                    7377 non-null object\n",
      "summary                 7377 non-null object\n",
      "updated_at              7377 non-null datetime64[ns]\n",
      "dtypes: datetime64[ns](5), float64(10), int64(5), object(3)\n",
      "memory usage: 1.4+ MB\n"
     ]
    }
   ],
   "source": [
    "df_wether2.info()"
   ]
  },
  {
   "cell_type": "code",
   "execution_count": 326,
   "metadata": {},
   "outputs": [
    {
     "name": "stdout",
     "output_type": "stream",
     "text": [
      "['Clear' 'Foggy' 'Partly Cloudy' 'Mostly Cloudy' 'Breezy and Foggy'\n",
      " 'Overcast' 'Humid and Partly Cloudy' 'Humid and Mostly Cloudy'\n",
      " 'Humid and Overcast' 'Humid and Foggy' 'Humid' 'Possible Light Rain'\n",
      " 'Rain' 'Light Rain' 'Light Rain and Humid'\n",
      " 'Possible Light Rain and Humid' 'Possible Drizzle and Humid'\n",
      " 'Rain and Humid']\n",
      "['clear-night' 'fog' 'clear-day' 'partly-cloudy-day' 'partly-cloudy-night'\n",
      " 'wind' 'cloudy' 'rain']\n"
     ]
    }
   ],
   "source": [
    "print(df_wether2.summary.unique())\n",
    "print(df_wether2.icon.unique())"
   ]
  },
  {
   "cell_type": "markdown",
   "metadata": {},
   "source": [
    "<h4>Looking at the unique values in summary and icon we can say both the columns holds almost same information.<br>\n",
    "Hence we can drop icon columns and use summary column at it has more number of categories with more knowledge on the data</h4>"
   ]
  },
  {
   "cell_type": "code",
   "execution_count": 327,
   "metadata": {},
   "outputs": [],
   "source": [
    "def get_pahar(hr):\n",
    "    if (hr>=6 and hr<9): return(1)\n",
    "    elif hr>=9 and hr<12: return(2)\n",
    "    elif hr>=12 and hr<15: return(3)\n",
    "    elif hr>=15 and hr<=18: return(4)"
   ]
  },
  {
   "cell_type": "code",
   "execution_count": 328,
   "metadata": {},
   "outputs": [],
   "source": [
    "df_wether2=pd.concat([df_wether2,pd.get_dummies(df_wether2.precip_type,prefix='precip_type')],axis=1)\n",
    "df_wether2=pd.concat([df_wether2,pd.get_dummies(df_wether2.summary,prefix='icon')],axis=1)\n",
    "df_wether2['week_of_year']=df_wether2.datetime_local.dt.weekofyear\n",
    "df_wether2['pahar']=df_wether2.datetime_local.dt.hour.apply(lambda hr: get_pahar(hr))\n",
    "df_wether2.drop(['icon','plant_id','summary','sunrise','sunset','updated_at','precip_type','datetime_utc'],axis=1,inplace=True)"
   ]
  },
  {
   "cell_type": "markdown",
   "metadata": {},
   "source": [
    "<h3> Check Missing Days</h3>"
   ]
  },
  {
   "cell_type": "code",
   "execution_count": 329,
   "metadata": {},
   "outputs": [
    {
     "name": "stdout",
     "output_type": "stream",
     "text": [
      "Counts for Whether\n",
      "Required no. of Days:  729 Existing no. of Days:  568 Missing no. Of Days:  161\n"
     ]
    }
   ],
   "source": [
    "print('Counts for Whether')\n",
    "print('Required no. of Days: ',(df_wether2.datetime_local.max()-df_wether2.datetime_local.min()).days,\\\n",
    "        'Existing no. of Days: ',len(df_wether2.datetime_local.dt.date.unique()),\\\n",
    "        'Missing no. Of Days: ',(df_wether2.datetime_local.max()-df_wether2.datetime_local.min()).days-len(df_wether2.datetime_local.dt.date.unique()))"
   ]
  },
  {
   "cell_type": "code",
   "execution_count": 330,
   "metadata": {},
   "outputs": [
    {
     "name": "stdout",
     "output_type": "stream",
     "text": [
      "Counts for Power\n",
      "Required no. of Days:  729 Existing no. of Days:  730 Missing no. Of Days:  -1\n"
     ]
    }
   ],
   "source": [
    "print('Counts for Power')\n",
    "print('Required no. of Days: ',(df_power.datetime.max()-df_power.datetime.min()).days,\\\n",
    "        'Existing no. of Days: ',len(df_power.datetime.dt.date.unique()),\\\n",
    "        'Missing no. Of Days: ',(df_power.datetime.max()-df_power.datetime.min()).days-len(df_power.datetime.dt.date.unique()))"
   ]
  },
  {
   "cell_type": "markdown",
   "metadata": {},
   "source": [
    "<h4> Looking at list of missing days we can clearly see that data is missing from 28th of Feb 2018 till 15th Aug 2018.</h4>\n",
    "<p>Imputing data for these many days consecutively will degrade the performance of models.\n",
    "Hence we can ignore this missing dates for now.</p>"
   ]
  },
  {
   "cell_type": "code",
   "execution_count": 331,
   "metadata": {},
   "outputs": [
    {
     "name": "stdout",
     "output_type": "stream",
     "text": [
      "DataDate count: 7377\n",
      "Actual Date count: 729\n",
      "Missing Date count: 163\n",
      "[Timestamp('2018-02-28 06:00:00'), Timestamp('2018-03-01 06:00:00'), Timestamp('2018-03-02 06:00:00'), Timestamp('2018-03-03 06:00:00'), Timestamp('2018-03-04 06:00:00'), Timestamp('2018-03-05 06:00:00'), Timestamp('2018-03-06 06:00:00'), Timestamp('2018-03-13 06:00:00'), Timestamp('2018-03-14 06:00:00'), Timestamp('2018-03-15 06:00:00'), Timestamp('2018-03-16 06:00:00'), Timestamp('2018-03-17 06:00:00'), Timestamp('2018-03-18 06:00:00'), Timestamp('2018-03-19 06:00:00'), Timestamp('2018-03-20 06:00:00'), Timestamp('2018-03-21 06:00:00'), Timestamp('2018-03-22 06:00:00'), Timestamp('2018-03-23 06:00:00'), Timestamp('2018-03-24 06:00:00'), Timestamp('2018-03-25 06:00:00'), Timestamp('2018-03-26 06:00:00'), Timestamp('2018-03-27 06:00:00'), Timestamp('2018-03-28 06:00:00'), Timestamp('2018-03-29 06:00:00'), Timestamp('2018-03-30 06:00:00'), Timestamp('2018-03-31 06:00:00'), Timestamp('2018-04-01 06:00:00'), Timestamp('2018-04-02 06:00:00'), Timestamp('2018-04-03 06:00:00'), Timestamp('2018-04-04 06:00:00'), Timestamp('2018-04-05 06:00:00'), Timestamp('2018-04-06 06:00:00'), Timestamp('2018-04-07 06:00:00'), Timestamp('2018-04-08 06:00:00'), Timestamp('2018-04-09 06:00:00'), Timestamp('2018-04-10 06:00:00'), Timestamp('2018-04-11 06:00:00'), Timestamp('2018-04-12 06:00:00'), Timestamp('2018-04-13 06:00:00'), Timestamp('2018-04-14 06:00:00'), Timestamp('2018-04-15 06:00:00'), Timestamp('2018-04-16 06:00:00'), Timestamp('2018-04-17 06:00:00'), Timestamp('2018-04-18 06:00:00'), Timestamp('2018-04-19 06:00:00'), Timestamp('2018-04-20 06:00:00'), Timestamp('2018-04-21 06:00:00'), Timestamp('2018-04-22 06:00:00'), Timestamp('2018-04-23 06:00:00'), Timestamp('2018-04-24 06:00:00'), Timestamp('2018-04-25 06:00:00'), Timestamp('2018-04-26 06:00:00'), Timestamp('2018-04-27 06:00:00'), Timestamp('2018-04-28 06:00:00'), Timestamp('2018-04-29 06:00:00'), Timestamp('2018-04-30 06:00:00'), Timestamp('2018-05-01 06:00:00'), Timestamp('2018-05-02 06:00:00'), Timestamp('2018-05-03 06:00:00'), Timestamp('2018-05-04 06:00:00'), Timestamp('2018-05-05 06:00:00'), Timestamp('2018-05-06 06:00:00'), Timestamp('2018-05-07 06:00:00'), Timestamp('2018-05-08 06:00:00'), Timestamp('2018-05-09 06:00:00'), Timestamp('2018-05-10 06:00:00'), Timestamp('2018-05-11 06:00:00'), Timestamp('2018-05-12 06:00:00'), Timestamp('2018-05-13 06:00:00'), Timestamp('2018-05-14 06:00:00'), Timestamp('2018-05-15 06:00:00'), Timestamp('2018-05-16 06:00:00'), Timestamp('2018-05-17 06:00:00'), Timestamp('2018-05-18 06:00:00'), Timestamp('2018-05-19 06:00:00'), Timestamp('2018-05-20 06:00:00'), Timestamp('2018-05-21 06:00:00'), Timestamp('2018-05-22 06:00:00'), Timestamp('2018-05-23 06:00:00'), Timestamp('2018-05-24 06:00:00'), Timestamp('2018-05-25 06:00:00'), Timestamp('2018-05-26 06:00:00'), Timestamp('2018-05-27 06:00:00'), Timestamp('2018-05-28 06:00:00'), Timestamp('2018-05-29 06:00:00'), Timestamp('2018-05-30 06:00:00'), Timestamp('2018-05-31 06:00:00'), Timestamp('2018-06-01 06:00:00'), Timestamp('2018-06-02 06:00:00'), Timestamp('2018-06-03 06:00:00'), Timestamp('2018-06-04 06:00:00'), Timestamp('2018-06-05 06:00:00'), Timestamp('2018-06-06 06:00:00'), Timestamp('2018-06-07 06:00:00'), Timestamp('2018-06-08 06:00:00'), Timestamp('2018-06-09 06:00:00'), Timestamp('2018-06-10 06:00:00'), Timestamp('2018-06-11 06:00:00'), Timestamp('2018-06-12 06:00:00'), Timestamp('2018-06-13 06:00:00'), Timestamp('2018-06-14 06:00:00'), Timestamp('2018-06-15 06:00:00'), Timestamp('2018-06-16 06:00:00'), Timestamp('2018-06-17 06:00:00'), Timestamp('2018-06-18 06:00:00'), Timestamp('2018-06-19 06:00:00'), Timestamp('2018-06-20 06:00:00'), Timestamp('2018-06-21 06:00:00'), Timestamp('2018-06-22 06:00:00'), Timestamp('2018-06-23 06:00:00'), Timestamp('2018-06-24 06:00:00'), Timestamp('2018-06-25 06:00:00'), Timestamp('2018-06-26 06:00:00'), Timestamp('2018-06-27 06:00:00'), Timestamp('2018-06-28 06:00:00'), Timestamp('2018-06-29 06:00:00'), Timestamp('2018-06-30 06:00:00'), Timestamp('2018-07-01 06:00:00'), Timestamp('2018-07-02 06:00:00'), Timestamp('2018-07-03 06:00:00'), Timestamp('2018-07-04 06:00:00'), Timestamp('2018-07-05 06:00:00'), Timestamp('2018-07-06 06:00:00'), Timestamp('2018-07-07 06:00:00'), Timestamp('2018-07-08 06:00:00'), Timestamp('2018-07-09 06:00:00'), Timestamp('2018-07-10 06:00:00'), Timestamp('2018-07-11 06:00:00'), Timestamp('2018-07-12 06:00:00'), Timestamp('2018-07-13 06:00:00'), Timestamp('2018-07-14 06:00:00'), Timestamp('2018-07-15 06:00:00'), Timestamp('2018-07-16 06:00:00'), Timestamp('2018-07-17 06:00:00'), Timestamp('2018-07-18 06:00:00'), Timestamp('2018-07-19 06:00:00'), Timestamp('2018-07-20 06:00:00'), Timestamp('2018-07-21 06:00:00'), Timestamp('2018-07-22 06:00:00'), Timestamp('2018-07-23 06:00:00'), Timestamp('2018-07-24 06:00:00'), Timestamp('2018-07-25 06:00:00'), Timestamp('2018-07-26 06:00:00'), Timestamp('2018-07-27 06:00:00'), Timestamp('2018-07-28 06:00:00'), Timestamp('2018-07-29 06:00:00'), Timestamp('2018-07-30 06:00:00'), Timestamp('2018-07-31 06:00:00'), Timestamp('2018-08-01 06:00:00'), Timestamp('2018-08-02 06:00:00'), Timestamp('2018-08-03 06:00:00'), Timestamp('2018-08-04 06:00:00'), Timestamp('2018-08-05 06:00:00'), Timestamp('2018-08-06 06:00:00'), Timestamp('2018-08-07 06:00:00'), Timestamp('2018-08-08 06:00:00'), Timestamp('2018-08-09 06:00:00'), Timestamp('2018-08-10 06:00:00'), Timestamp('2018-08-11 06:00:00'), Timestamp('2018-08-12 06:00:00'), Timestamp('2018-08-13 06:00:00'), Timestamp('2018-08-14 06:00:00'), Timestamp('2018-08-15 06:00:00')]\n"
     ]
    }
   ],
   "source": [
    "d=df_wether2.sort_values('datetime_local').datetime_local.to_list()\n",
    "print('DataDate count:',len(d))\n",
    "date_set = set(d[0] + timedelta(x) for x in range((d[-1] - d[0]).days))\n",
    "print('Actual Date count:',len(date_set))\n",
    "missing = sorted(date_set - set(d))\n",
    "print('Missing Date count:',len(missing))\n",
    "print(missing)"
   ]
  },
  {
   "cell_type": "code",
   "execution_count": 339,
   "metadata": {},
   "outputs": [],
   "source": [
    "df_input=df_wether2.join(df_power.set_index('datetime'),on=['datetime_local'],how='inner').dropna()\n",
    "df_input.to_csv('Climate_input.csv')\n",
    "df_input=df_input.set_index('datetime_local')"
   ]
  },
  {
   "cell_type": "code",
   "execution_count": null,
   "metadata": {},
   "outputs": [
    {
     "name": "stderr",
     "output_type": "stream",
     "text": [
      "C:\\Users\\Lekhu\\AppData\\Roaming\\Python\\Python37\\site-packages\\statsmodels\\base\\model.py:1752: ValueWarning: covariance of constraints does not have full rank. The number of constraints is 3, but rank is 1\n",
      "  'rank is %d' % (J, J_), ValueWarning)\n",
      "C:\\Users\\Lekhu\\AppData\\Roaming\\Python\\Python37\\site-packages\\statsmodels\\base\\model.py:1752: ValueWarning: covariance of constraints does not have full rank. The number of constraints is 4, but rank is 3\n",
      "  'rank is %d' % (J, J_), ValueWarning)\n",
      "C:\\Users\\Lekhu\\AppData\\Roaming\\Python\\Python37\\site-packages\\statsmodels\\base\\model.py:1752: ValueWarning: covariance of constraints does not have full rank. The number of constraints is 5, but rank is 1\n",
      "  'rank is %d' % (J, J_), ValueWarning)\n",
      "C:\\Users\\Lekhu\\AppData\\Roaming\\Python\\Python37\\site-packages\\statsmodels\\base\\model.py:1752: ValueWarning: covariance of constraints does not have full rank. The number of constraints is 6, but rank is 2\n",
      "  'rank is %d' % (J, J_), ValueWarning)\n",
      "C:\\Users\\Lekhu\\AppData\\Roaming\\Python\\Python37\\site-packages\\statsmodels\\base\\model.py:1752: ValueWarning: covariance of constraints does not have full rank. The number of constraints is 7, but rank is 1\n",
      "  'rank is %d' % (J, J_), ValueWarning)\n",
      "C:\\Users\\Lekhu\\AppData\\Roaming\\Python\\Python37\\site-packages\\statsmodels\\base\\model.py:1752: ValueWarning: covariance of constraints does not have full rank. The number of constraints is 8, but rank is 2\n",
      "  'rank is %d' % (J, J_), ValueWarning)\n",
      "C:\\Users\\Lekhu\\AppData\\Roaming\\Python\\Python37\\site-packages\\statsmodels\\base\\model.py:1752: ValueWarning: covariance of constraints does not have full rank. The number of constraints is 9, but rank is 1\n",
      "  'rank is %d' % (J, J_), ValueWarning)\n",
      "C:\\Users\\Lekhu\\AppData\\Roaming\\Python\\Python37\\site-packages\\statsmodels\\base\\model.py:1752: ValueWarning: covariance of constraints does not have full rank. The number of constraints is 10, but rank is 1\n",
      "  'rank is %d' % (J, J_), ValueWarning)\n",
      "C:\\Users\\Lekhu\\AppData\\Roaming\\Python\\Python37\\site-packages\\statsmodels\\base\\model.py:1752: ValueWarning: covariance of constraints does not have full rank. The number of constraints is 11, but rank is 2\n",
      "  'rank is %d' % (J, J_), ValueWarning)\n",
      "C:\\Users\\Lekhu\\AppData\\Roaming\\Python\\Python37\\site-packages\\statsmodels\\base\\model.py:1752: ValueWarning: covariance of constraints does not have full rank. The number of constraints is 12, but rank is 1\n",
      "  'rank is %d' % (J, J_), ValueWarning)\n",
      "C:\\Users\\Lekhu\\AppData\\Roaming\\Python\\Python37\\site-packages\\statsmodels\\base\\model.py:1752: ValueWarning: covariance of constraints does not have full rank. The number of constraints is 2, but rank is 1\n",
      "  'rank is %d' % (J, J_), ValueWarning)\n",
      "C:\\Users\\Lekhu\\AppData\\Roaming\\Python\\Python37\\site-packages\\statsmodels\\base\\model.py:1752: ValueWarning: covariance of constraints does not have full rank. The number of constraints is 3, but rank is 1\n",
      "  'rank is %d' % (J, J_), ValueWarning)\n",
      "C:\\Users\\Lekhu\\AppData\\Roaming\\Python\\Python37\\site-packages\\statsmodels\\base\\model.py:1752: ValueWarning: covariance of constraints does not have full rank. The number of constraints is 4, but rank is 1\n",
      "  'rank is %d' % (J, J_), ValueWarning)\n",
      "C:\\Users\\Lekhu\\AppData\\Roaming\\Python\\Python37\\site-packages\\statsmodels\\base\\model.py:1752: ValueWarning: covariance of constraints does not have full rank. The number of constraints is 5, but rank is 1\n",
      "  'rank is %d' % (J, J_), ValueWarning)\n",
      "C:\\Users\\Lekhu\\AppData\\Roaming\\Python\\Python37\\site-packages\\statsmodels\\base\\model.py:1752: ValueWarning: covariance of constraints does not have full rank. The number of constraints is 6, but rank is 1\n",
      "  'rank is %d' % (J, J_), ValueWarning)\n",
      "C:\\Users\\Lekhu\\AppData\\Roaming\\Python\\Python37\\site-packages\\statsmodels\\base\\model.py:1752: ValueWarning: covariance of constraints does not have full rank. The number of constraints is 9, but rank is 1\n",
      "  'rank is %d' % (J, J_), ValueWarning)\n",
      "C:\\Users\\Lekhu\\AppData\\Roaming\\Python\\Python37\\site-packages\\statsmodels\\base\\model.py:1752: ValueWarning: covariance of constraints does not have full rank. The number of constraints is 2, but rank is 1\n",
      "  'rank is %d' % (J, J_), ValueWarning)\n",
      "C:\\Users\\Lekhu\\AppData\\Roaming\\Python\\Python37\\site-packages\\statsmodels\\base\\model.py:1752: ValueWarning: covariance of constraints does not have full rank. The number of constraints is 6, but rank is 5\n",
      "  'rank is %d' % (J, J_), ValueWarning)\n",
      "C:\\Users\\Lekhu\\AppData\\Roaming\\Python\\Python37\\site-packages\\statsmodels\\base\\model.py:1752: ValueWarning: covariance of constraints does not have full rank. The number of constraints is 7, but rank is 5\n",
      "  'rank is %d' % (J, J_), ValueWarning)\n",
      "C:\\Users\\Lekhu\\AppData\\Roaming\\Python\\Python37\\site-packages\\statsmodels\\base\\model.py:1752: ValueWarning: covariance of constraints does not have full rank. The number of constraints is 8, but rank is 7\n",
      "  'rank is %d' % (J, J_), ValueWarning)\n",
      "C:\\Users\\Lekhu\\AppData\\Roaming\\Python\\Python37\\site-packages\\statsmodels\\base\\model.py:1752: ValueWarning: covariance of constraints does not have full rank. The number of constraints is 9, but rank is 5\n",
      "  'rank is %d' % (J, J_), ValueWarning)\n",
      "C:\\Users\\Lekhu\\AppData\\Roaming\\Python\\Python37\\site-packages\\statsmodels\\base\\model.py:1752: ValueWarning: covariance of constraints does not have full rank. The number of constraints is 10, but rank is 7\n",
      "  'rank is %d' % (J, J_), ValueWarning)\n",
      "C:\\Users\\Lekhu\\AppData\\Roaming\\Python\\Python37\\site-packages\\statsmodels\\base\\model.py:1752: ValueWarning: covariance of constraints does not have full rank. The number of constraints is 11, but rank is 6\n",
      "  'rank is %d' % (J, J_), ValueWarning)\n",
      "C:\\Users\\Lekhu\\AppData\\Roaming\\Python\\Python37\\site-packages\\statsmodels\\base\\model.py:1752: ValueWarning: covariance of constraints does not have full rank. The number of constraints is 12, but rank is 7\n",
      "  'rank is %d' % (J, J_), ValueWarning)\n",
      "C:\\Users\\Lekhu\\AppData\\Roaming\\Python\\Python37\\site-packages\\statsmodels\\base\\model.py:1752: ValueWarning: covariance of constraints does not have full rank. The number of constraints is 2, but rank is 1\n",
      "  'rank is %d' % (J, J_), ValueWarning)\n",
      "C:\\Users\\Lekhu\\AppData\\Roaming\\Python\\Python37\\site-packages\\statsmodels\\base\\model.py:1752: ValueWarning: covariance of constraints does not have full rank. The number of constraints is 6, but rank is 1\n",
      "  'rank is %d' % (J, J_), ValueWarning)\n",
      "C:\\Users\\Lekhu\\AppData\\Roaming\\Python\\Python37\\site-packages\\statsmodels\\base\\model.py:1752: ValueWarning: covariance of constraints does not have full rank. The number of constraints is 7, but rank is 1\n",
      "  'rank is %d' % (J, J_), ValueWarning)\n",
      "C:\\Users\\Lekhu\\AppData\\Roaming\\Python\\Python37\\site-packages\\statsmodels\\base\\model.py:1752: ValueWarning: covariance of constraints does not have full rank. The number of constraints is 9, but rank is 1\n",
      "  'rank is %d' % (J, J_), ValueWarning)\n",
      "C:\\Users\\Lekhu\\AppData\\Roaming\\Python\\Python37\\site-packages\\statsmodels\\base\\model.py:1752: ValueWarning: covariance of constraints does not have full rank. The number of constraints is 10, but rank is 1\n",
      "  'rank is %d' % (J, J_), ValueWarning)\n",
      "C:\\Users\\Lekhu\\AppData\\Roaming\\Python\\Python37\\site-packages\\statsmodels\\base\\model.py:1752: ValueWarning: covariance of constraints does not have full rank. The number of constraints is 12, but rank is 1\n",
      "  'rank is %d' % (J, J_), ValueWarning)\n",
      "C:\\Users\\Lekhu\\AppData\\Roaming\\Python\\Python37\\site-packages\\statsmodels\\base\\model.py:1752: ValueWarning: covariance of constraints does not have full rank. The number of constraints is 4, but rank is 2\n",
      "  'rank is %d' % (J, J_), ValueWarning)\n",
      "C:\\Users\\Lekhu\\AppData\\Roaming\\Python\\Python37\\site-packages\\statsmodels\\base\\model.py:1752: ValueWarning: covariance of constraints does not have full rank. The number of constraints is 5, but rank is 1\n",
      "  'rank is %d' % (J, J_), ValueWarning)\n",
      "C:\\Users\\Lekhu\\AppData\\Roaming\\Python\\Python37\\site-packages\\statsmodels\\base\\model.py:1752: ValueWarning: covariance of constraints does not have full rank. The number of constraints is 6, but rank is 2\n",
      "  'rank is %d' % (J, J_), ValueWarning)\n",
      "C:\\Users\\Lekhu\\AppData\\Roaming\\Python\\Python37\\site-packages\\statsmodels\\base\\model.py:1752: ValueWarning: covariance of constraints does not have full rank. The number of constraints is 7, but rank is 1\n",
      "  'rank is %d' % (J, J_), ValueWarning)\n",
      "C:\\Users\\Lekhu\\AppData\\Roaming\\Python\\Python37\\site-packages\\statsmodels\\base\\model.py:1752: ValueWarning: covariance of constraints does not have full rank. The number of constraints is 9, but rank is 1\n",
      "  'rank is %d' % (J, J_), ValueWarning)\n",
      "C:\\Users\\Lekhu\\AppData\\Roaming\\Python\\Python37\\site-packages\\statsmodels\\base\\model.py:1752: ValueWarning: covariance of constraints does not have full rank. The number of constraints is 10, but rank is 1\n",
      "  'rank is %d' % (J, J_), ValueWarning)\n"
     ]
    },
    {
     "name": "stderr",
     "output_type": "stream",
     "text": [
      "C:\\Users\\Lekhu\\AppData\\Roaming\\Python\\Python37\\site-packages\\statsmodels\\base\\model.py:1752: ValueWarning: covariance of constraints does not have full rank. The number of constraints is 11, but rank is 1\n",
      "  'rank is %d' % (J, J_), ValueWarning)\n",
      "C:\\Users\\Lekhu\\AppData\\Roaming\\Python\\Python37\\site-packages\\statsmodels\\base\\model.py:1752: ValueWarning: covariance of constraints does not have full rank. The number of constraints is 2, but rank is 1\n",
      "  'rank is %d' % (J, J_), ValueWarning)\n",
      "C:\\Users\\Lekhu\\AppData\\Roaming\\Python\\Python37\\site-packages\\statsmodels\\base\\model.py:1752: ValueWarning: covariance of constraints does not have full rank. The number of constraints is 4, but rank is 1\n",
      "  'rank is %d' % (J, J_), ValueWarning)\n",
      "C:\\Users\\Lekhu\\AppData\\Roaming\\Python\\Python37\\site-packages\\statsmodels\\base\\model.py:1752: ValueWarning: covariance of constraints does not have full rank. The number of constraints is 6, but rank is 1\n",
      "  'rank is %d' % (J, J_), ValueWarning)\n",
      "C:\\Users\\Lekhu\\AppData\\Roaming\\Python\\Python37\\site-packages\\statsmodels\\base\\model.py:1752: ValueWarning: covariance of constraints does not have full rank. The number of constraints is 7, but rank is 2\n",
      "  'rank is %d' % (J, J_), ValueWarning)\n",
      "C:\\Users\\Lekhu\\AppData\\Roaming\\Python\\Python37\\site-packages\\statsmodels\\base\\model.py:1752: ValueWarning: covariance of constraints does not have full rank. The number of constraints is 9, but rank is 3\n",
      "  'rank is %d' % (J, J_), ValueWarning)\n",
      "C:\\Users\\Lekhu\\AppData\\Roaming\\Python\\Python37\\site-packages\\statsmodels\\base\\model.py:1752: ValueWarning: covariance of constraints does not have full rank. The number of constraints is 11, but rank is 3\n",
      "  'rank is %d' % (J, J_), ValueWarning)\n",
      "C:\\Users\\Lekhu\\AppData\\Roaming\\Python\\Python37\\site-packages\\statsmodels\\base\\model.py:1752: ValueWarning: covariance of constraints does not have full rank. The number of constraints is 3, but rank is 1\n",
      "  'rank is %d' % (J, J_), ValueWarning)\n",
      "C:\\Users\\Lekhu\\AppData\\Roaming\\Python\\Python37\\site-packages\\statsmodels\\base\\model.py:1752: ValueWarning: covariance of constraints does not have full rank. The number of constraints is 5, but rank is 1\n",
      "  'rank is %d' % (J, J_), ValueWarning)\n",
      "C:\\Users\\Lekhu\\AppData\\Roaming\\Python\\Python37\\site-packages\\statsmodels\\base\\model.py:1752: ValueWarning: covariance of constraints does not have full rank. The number of constraints is 6, but rank is 2\n",
      "  'rank is %d' % (J, J_), ValueWarning)\n",
      "C:\\Users\\Lekhu\\AppData\\Roaming\\Python\\Python37\\site-packages\\statsmodels\\base\\model.py:1752: ValueWarning: covariance of constraints does not have full rank. The number of constraints is 8, but rank is 1\n",
      "  'rank is %d' % (J, J_), ValueWarning)\n",
      "C:\\Users\\Lekhu\\AppData\\Roaming\\Python\\Python37\\site-packages\\statsmodels\\base\\model.py:1752: ValueWarning: covariance of constraints does not have full rank. The number of constraints is 9, but rank is 1\n",
      "  'rank is %d' % (J, J_), ValueWarning)\n",
      "C:\\Users\\Lekhu\\AppData\\Roaming\\Python\\Python37\\site-packages\\statsmodels\\base\\model.py:1752: ValueWarning: covariance of constraints does not have full rank. The number of constraints is 10, but rank is 1\n",
      "  'rank is %d' % (J, J_), ValueWarning)\n",
      "C:\\Users\\Lekhu\\AppData\\Roaming\\Python\\Python37\\site-packages\\statsmodels\\base\\model.py:1752: ValueWarning: covariance of constraints does not have full rank. The number of constraints is 12, but rank is 1\n",
      "  'rank is %d' % (J, J_), ValueWarning)\n",
      "C:\\Users\\Lekhu\\AppData\\Roaming\\Python\\Python37\\site-packages\\statsmodels\\base\\model.py:1752: ValueWarning: covariance of constraints does not have full rank. The number of constraints is 2, but rank is 1\n",
      "  'rank is %d' % (J, J_), ValueWarning)\n",
      "C:\\Users\\Lekhu\\AppData\\Roaming\\Python\\Python37\\site-packages\\statsmodels\\base\\model.py:1752: ValueWarning: covariance of constraints does not have full rank. The number of constraints is 3, but rank is 2\n",
      "  'rank is %d' % (J, J_), ValueWarning)\n",
      "C:\\Users\\Lekhu\\AppData\\Roaming\\Python\\Python37\\site-packages\\statsmodels\\base\\model.py:1752: ValueWarning: covariance of constraints does not have full rank. The number of constraints is 5, but rank is 2\n",
      "  'rank is %d' % (J, J_), ValueWarning)\n",
      "C:\\Users\\Lekhu\\AppData\\Roaming\\Python\\Python37\\site-packages\\statsmodels\\base\\model.py:1752: ValueWarning: covariance of constraints does not have full rank. The number of constraints is 7, but rank is 1\n",
      "  'rank is %d' % (J, J_), ValueWarning)\n",
      "C:\\Users\\Lekhu\\AppData\\Roaming\\Python\\Python37\\site-packages\\statsmodels\\base\\model.py:1752: ValueWarning: covariance of constraints does not have full rank. The number of constraints is 8, but rank is 1\n",
      "  'rank is %d' % (J, J_), ValueWarning)\n",
      "C:\\Users\\Lekhu\\AppData\\Roaming\\Python\\Python37\\site-packages\\statsmodels\\base\\model.py:1752: ValueWarning: covariance of constraints does not have full rank. The number of constraints is 9, but rank is 2\n",
      "  'rank is %d' % (J, J_), ValueWarning)\n",
      "C:\\Users\\Lekhu\\AppData\\Roaming\\Python\\Python37\\site-packages\\statsmodels\\base\\model.py:1752: ValueWarning: covariance of constraints does not have full rank. The number of constraints is 10, but rank is 1\n",
      "  'rank is %d' % (J, J_), ValueWarning)\n",
      "C:\\Users\\Lekhu\\AppData\\Roaming\\Python\\Python37\\site-packages\\statsmodels\\base\\model.py:1752: ValueWarning: covariance of constraints does not have full rank. The number of constraints is 11, but rank is 2\n",
      "  'rank is %d' % (J, J_), ValueWarning)\n",
      "C:\\Users\\Lekhu\\AppData\\Roaming\\Python\\Python37\\site-packages\\statsmodels\\base\\model.py:1752: ValueWarning: covariance of constraints does not have full rank. The number of constraints is 12, but rank is 1\n",
      "  'rank is %d' % (J, J_), ValueWarning)\n",
      "C:\\Users\\Lekhu\\AppData\\Roaming\\Python\\Python37\\site-packages\\statsmodels\\base\\model.py:1752: ValueWarning: covariance of constraints does not have full rank. The number of constraints is 2, but rank is 1\n",
      "  'rank is %d' % (J, J_), ValueWarning)\n",
      "C:\\Users\\Lekhu\\AppData\\Roaming\\Python\\Python37\\site-packages\\statsmodels\\base\\model.py:1752: ValueWarning: covariance of constraints does not have full rank. The number of constraints is 3, but rank is 1\n",
      "  'rank is %d' % (J, J_), ValueWarning)\n",
      "C:\\Users\\Lekhu\\AppData\\Roaming\\Python\\Python37\\site-packages\\statsmodels\\base\\model.py:1752: ValueWarning: covariance of constraints does not have full rank. The number of constraints is 4, but rank is 1\n",
      "  'rank is %d' % (J, J_), ValueWarning)\n",
      "C:\\Users\\Lekhu\\AppData\\Roaming\\Python\\Python37\\site-packages\\statsmodels\\base\\model.py:1752: ValueWarning: covariance of constraints does not have full rank. The number of constraints is 5, but rank is 2\n",
      "  'rank is %d' % (J, J_), ValueWarning)\n",
      "C:\\Users\\Lekhu\\AppData\\Roaming\\Python\\Python37\\site-packages\\statsmodels\\base\\model.py:1752: ValueWarning: covariance of constraints does not have full rank. The number of constraints is 6, but rank is 1\n",
      "  'rank is %d' % (J, J_), ValueWarning)\n",
      "C:\\Users\\Lekhu\\AppData\\Roaming\\Python\\Python37\\site-packages\\statsmodels\\base\\model.py:1752: ValueWarning: covariance of constraints does not have full rank. The number of constraints is 7, but rank is 2\n",
      "  'rank is %d' % (J, J_), ValueWarning)\n",
      "C:\\Users\\Lekhu\\AppData\\Roaming\\Python\\Python37\\site-packages\\statsmodels\\base\\model.py:1752: ValueWarning: covariance of constraints does not have full rank. The number of constraints is 8, but rank is 1\n",
      "  'rank is %d' % (J, J_), ValueWarning)\n",
      "C:\\Users\\Lekhu\\AppData\\Roaming\\Python\\Python37\\site-packages\\statsmodels\\base\\model.py:1752: ValueWarning: covariance of constraints does not have full rank. The number of constraints is 9, but rank is 2\n",
      "  'rank is %d' % (J, J_), ValueWarning)\n",
      "C:\\Users\\Lekhu\\AppData\\Roaming\\Python\\Python37\\site-packages\\statsmodels\\base\\model.py:1752: ValueWarning: covariance of constraints does not have full rank. The number of constraints is 10, but rank is 1\n",
      "  'rank is %d' % (J, J_), ValueWarning)\n",
      "C:\\Users\\Lekhu\\AppData\\Roaming\\Python\\Python37\\site-packages\\statsmodels\\base\\model.py:1752: ValueWarning: covariance of constraints does not have full rank. The number of constraints is 12, but rank is 1\n",
      "  'rank is %d' % (J, J_), ValueWarning)\n",
      "C:\\Users\\Lekhu\\AppData\\Roaming\\Python\\Python37\\site-packages\\statsmodels\\base\\model.py:1752: ValueWarning: covariance of constraints does not have full rank. The number of constraints is 2, but rank is 1\n",
      "  'rank is %d' % (J, J_), ValueWarning)\n",
      "C:\\Users\\Lekhu\\AppData\\Roaming\\Python\\Python37\\site-packages\\statsmodels\\base\\model.py:1752: ValueWarning: covariance of constraints does not have full rank. The number of constraints is 3, but rank is 1\n",
      "  'rank is %d' % (J, J_), ValueWarning)\n",
      "C:\\Users\\Lekhu\\AppData\\Roaming\\Python\\Python37\\site-packages\\statsmodels\\base\\model.py:1752: ValueWarning: covariance of constraints does not have full rank. The number of constraints is 4, but rank is 1\n",
      "  'rank is %d' % (J, J_), ValueWarning)\n",
      "C:\\Users\\Lekhu\\AppData\\Roaming\\Python\\Python37\\site-packages\\statsmodels\\base\\model.py:1752: ValueWarning: covariance of constraints does not have full rank. The number of constraints is 5, but rank is 1\n",
      "  'rank is %d' % (J, J_), ValueWarning)\n",
      "C:\\Users\\Lekhu\\AppData\\Roaming\\Python\\Python37\\site-packages\\statsmodels\\base\\model.py:1752: ValueWarning: covariance of constraints does not have full rank. The number of constraints is 6, but rank is 1\n",
      "  'rank is %d' % (J, J_), ValueWarning)\n",
      "C:\\Users\\Lekhu\\AppData\\Roaming\\Python\\Python37\\site-packages\\statsmodels\\base\\model.py:1752: ValueWarning: covariance of constraints does not have full rank. The number of constraints is 7, but rank is 1\n",
      "  'rank is %d' % (J, J_), ValueWarning)\n",
      "C:\\Users\\Lekhu\\AppData\\Roaming\\Python\\Python37\\site-packages\\statsmodels\\base\\model.py:1752: ValueWarning: covariance of constraints does not have full rank. The number of constraints is 8, but rank is 1\n",
      "  'rank is %d' % (J, J_), ValueWarning)\n",
      "C:\\Users\\Lekhu\\AppData\\Roaming\\Python\\Python37\\site-packages\\statsmodels\\base\\model.py:1752: ValueWarning: covariance of constraints does not have full rank. The number of constraints is 9, but rank is 2\n",
      "  'rank is %d' % (J, J_), ValueWarning)\n"
     ]
    },
    {
     "name": "stderr",
     "output_type": "stream",
     "text": [
      "C:\\Users\\Lekhu\\AppData\\Roaming\\Python\\Python37\\site-packages\\statsmodels\\base\\model.py:1752: ValueWarning: covariance of constraints does not have full rank. The number of constraints is 11, but rank is 2\n",
      "  'rank is %d' % (J, J_), ValueWarning)\n",
      "C:\\Users\\Lekhu\\AppData\\Roaming\\Python\\Python37\\site-packages\\statsmodels\\base\\model.py:1752: ValueWarning: covariance of constraints does not have full rank. The number of constraints is 12, but rank is 1\n",
      "  'rank is %d' % (J, J_), ValueWarning)\n",
      "C:\\Users\\Lekhu\\AppData\\Roaming\\Python\\Python37\\site-packages\\statsmodels\\base\\model.py:1752: ValueWarning: covariance of constraints does not have full rank. The number of constraints is 2, but rank is 1\n",
      "  'rank is %d' % (J, J_), ValueWarning)\n",
      "C:\\Users\\Lekhu\\AppData\\Roaming\\Python\\Python37\\site-packages\\statsmodels\\base\\model.py:1752: ValueWarning: covariance of constraints does not have full rank. The number of constraints is 3, but rank is 2\n",
      "  'rank is %d' % (J, J_), ValueWarning)\n",
      "C:\\Users\\Lekhu\\AppData\\Roaming\\Python\\Python37\\site-packages\\statsmodels\\base\\model.py:1752: ValueWarning: covariance of constraints does not have full rank. The number of constraints is 6, but rank is 1\n",
      "  'rank is %d' % (J, J_), ValueWarning)\n",
      "C:\\Users\\Lekhu\\AppData\\Roaming\\Python\\Python37\\site-packages\\statsmodels\\base\\model.py:1752: ValueWarning: covariance of constraints does not have full rank. The number of constraints is 7, but rank is 1\n",
      "  'rank is %d' % (J, J_), ValueWarning)\n",
      "C:\\Users\\Lekhu\\AppData\\Roaming\\Python\\Python37\\site-packages\\statsmodels\\base\\model.py:1752: ValueWarning: covariance of constraints does not have full rank. The number of constraints is 8, but rank is 1\n",
      "  'rank is %d' % (J, J_), ValueWarning)\n",
      "C:\\Users\\Lekhu\\AppData\\Roaming\\Python\\Python37\\site-packages\\statsmodels\\base\\model.py:1752: ValueWarning: covariance of constraints does not have full rank. The number of constraints is 9, but rank is 2\n",
      "  'rank is %d' % (J, J_), ValueWarning)\n",
      "C:\\Users\\Lekhu\\AppData\\Roaming\\Python\\Python37\\site-packages\\statsmodels\\base\\model.py:1752: ValueWarning: covariance of constraints does not have full rank. The number of constraints is 10, but rank is 1\n",
      "  'rank is %d' % (J, J_), ValueWarning)\n",
      "C:\\Users\\Lekhu\\AppData\\Roaming\\Python\\Python37\\site-packages\\statsmodels\\base\\model.py:1752: ValueWarning: covariance of constraints does not have full rank. The number of constraints is 11, but rank is 2\n",
      "  'rank is %d' % (J, J_), ValueWarning)\n",
      "C:\\Users\\Lekhu\\AppData\\Roaming\\Python\\Python37\\site-packages\\statsmodels\\base\\model.py:1752: ValueWarning: covariance of constraints does not have full rank. The number of constraints is 3, but rank is 2\n",
      "  'rank is %d' % (J, J_), ValueWarning)\n",
      "C:\\Users\\Lekhu\\AppData\\Roaming\\Python\\Python37\\site-packages\\statsmodels\\base\\model.py:1752: ValueWarning: covariance of constraints does not have full rank. The number of constraints is 5, but rank is 3\n",
      "  'rank is %d' % (J, J_), ValueWarning)\n",
      "C:\\Users\\Lekhu\\AppData\\Roaming\\Python\\Python37\\site-packages\\statsmodels\\base\\model.py:1752: ValueWarning: covariance of constraints does not have full rank. The number of constraints is 8, but rank is 7\n",
      "  'rank is %d' % (J, J_), ValueWarning)\n",
      "C:\\Users\\Lekhu\\AppData\\Roaming\\Python\\Python37\\site-packages\\statsmodels\\base\\model.py:1752: ValueWarning: covariance of constraints does not have full rank. The number of constraints is 9, but rank is 7\n",
      "  'rank is %d' % (J, J_), ValueWarning)\n",
      "C:\\Users\\Lekhu\\AppData\\Roaming\\Python\\Python37\\site-packages\\statsmodels\\base\\model.py:1752: ValueWarning: covariance of constraints does not have full rank. The number of constraints is 10, but rank is 8\n",
      "  'rank is %d' % (J, J_), ValueWarning)\n",
      "C:\\Users\\Lekhu\\AppData\\Roaming\\Python\\Python37\\site-packages\\statsmodels\\base\\model.py:1752: ValueWarning: covariance of constraints does not have full rank. The number of constraints is 11, but rank is 7\n",
      "  'rank is %d' % (J, J_), ValueWarning)\n",
      "C:\\Users\\Lekhu\\AppData\\Roaming\\Python\\Python37\\site-packages\\statsmodels\\base\\model.py:1752: ValueWarning: covariance of constraints does not have full rank. The number of constraints is 12, but rank is 11\n",
      "  'rank is %d' % (J, J_), ValueWarning)\n"
     ]
    }
   ],
   "source": [
    "from statsmodels.tsa.stattools import grangercausalitytests\n",
    "maxlag=12\n",
    "test = 'ssr_chi2test'\n",
    "def grangers_causation_matrix(data, variables, test='ssr_chi2test', verbose=False):    \n",
    "    \"\"\"Check Granger Causality of all possible combinations of the Time series.\n",
    "    The rows are the response variable, columns are predictors. The values in the table \n",
    "    are the P-Values. P-Values lesser than the significance level (0.05), implies \n",
    "    the Null Hypothesis that the coefficients of the corresponding past values is \n",
    "    zero, that is, the X does not cause Y can be rejected.\n",
    "\n",
    "    data      : pandas dataframe containing the time series variables\n",
    "    variables : list containing names of the time series variables.\n",
    "    \"\"\"\n",
    "    df = pd.DataFrame(np.zeros((len(variables), len(variables))), columns=variables, index=variables)\n",
    "    for c in df.columns:\n",
    "        for r in df.index:\n",
    "            test_result = grangercausalitytests(data[[r, c]], maxlag=maxlag, verbose=False)\n",
    "            p_values = [round(test_result[i+1][0][test][1],4) for i in range(maxlag)]\n",
    "            if verbose: print(f'Y = {r}, X = {c}, P Values = {p_values}')\n",
    "            min_p_value = np.min(p_values)\n",
    "            df.loc[r, c] = min_p_value\n",
    "    df.columns = [var + '_x' for var in variables]\n",
    "    df.index = [var + '_y' for var in variables]\n",
    "    return df\n",
    "\n",
    "grangers_causation_matrix(df_input, variables = df_input.columns)        "
   ]
  },
  {
   "cell_type": "code",
   "execution_count": 151,
   "metadata": {},
   "outputs": [
    {
     "data": {
      "text/html": [
       "<div>\n",
       "<style scoped>\n",
       "    .dataframe tbody tr th:only-of-type {\n",
       "        vertical-align: middle;\n",
       "    }\n",
       "\n",
       "    .dataframe tbody tr th {\n",
       "        vertical-align: top;\n",
       "    }\n",
       "\n",
       "    .dataframe thead th {\n",
       "        text-align: right;\n",
       "    }\n",
       "</style>\n",
       "<table border=\"1\" class=\"dataframe\">\n",
       "  <thead>\n",
       "    <tr style=\"text-align: right;\">\n",
       "      <th></th>\n",
       "      <th>datetime_local</th>\n",
       "      <th>cloud_cover</th>\n",
       "      <th>apparent_temperature</th>\n",
       "      <th>temperature</th>\n",
       "      <th>humidity</th>\n",
       "      <th>dew_point</th>\n",
       "      <th>wind_bearing</th>\n",
       "      <th>wind_speed</th>\n",
       "      <th>wind_gust</th>\n",
       "      <th>pressure</th>\n",
       "      <th>...</th>\n",
       "      <th>icon_Overcast</th>\n",
       "      <th>icon_Partly Cloudy</th>\n",
       "      <th>icon_Possible Drizzle and Humid</th>\n",
       "      <th>icon_Possible Light Rain</th>\n",
       "      <th>icon_Possible Light Rain and Humid</th>\n",
       "      <th>icon_Rain</th>\n",
       "      <th>icon_Rain and Humid</th>\n",
       "      <th>week_of_year</th>\n",
       "      <th>pahar</th>\n",
       "      <th>Date</th>\n",
       "    </tr>\n",
       "  </thead>\n",
       "  <tbody>\n",
       "    <tr>\n",
       "      <th>6</th>\n",
       "      <td>2017-10-01 06:00:00</td>\n",
       "      <td>0.0</td>\n",
       "      <td>21.87</td>\n",
       "      <td>22</td>\n",
       "      <td>1</td>\n",
       "      <td>17.45</td>\n",
       "      <td>-9999</td>\n",
       "      <td>-9999.00</td>\n",
       "      <td>-9999.0</td>\n",
       "      <td>1008.65</td>\n",
       "      <td>...</td>\n",
       "      <td>0</td>\n",
       "      <td>0</td>\n",
       "      <td>0</td>\n",
       "      <td>0</td>\n",
       "      <td>0</td>\n",
       "      <td>0</td>\n",
       "      <td>0</td>\n",
       "      <td>39</td>\n",
       "      <td>1.0</td>\n",
       "      <td>2017-10-01</td>\n",
       "    </tr>\n",
       "    <tr>\n",
       "      <th>7</th>\n",
       "      <td>2017-10-01 07:00:00</td>\n",
       "      <td>0.0</td>\n",
       "      <td>25.23</td>\n",
       "      <td>25</td>\n",
       "      <td>1</td>\n",
       "      <td>17.71</td>\n",
       "      <td>-9999</td>\n",
       "      <td>-9999.00</td>\n",
       "      <td>-9999.0</td>\n",
       "      <td>-9999.00</td>\n",
       "      <td>...</td>\n",
       "      <td>0</td>\n",
       "      <td>0</td>\n",
       "      <td>0</td>\n",
       "      <td>0</td>\n",
       "      <td>0</td>\n",
       "      <td>0</td>\n",
       "      <td>0</td>\n",
       "      <td>39</td>\n",
       "      <td>1.0</td>\n",
       "      <td>2017-10-01</td>\n",
       "    </tr>\n",
       "    <tr>\n",
       "      <th>8</th>\n",
       "      <td>2017-10-01 08:00:00</td>\n",
       "      <td>0.0</td>\n",
       "      <td>24.29</td>\n",
       "      <td>24</td>\n",
       "      <td>1</td>\n",
       "      <td>18.94</td>\n",
       "      <td>-9999</td>\n",
       "      <td>-9999.00</td>\n",
       "      <td>-9999.0</td>\n",
       "      <td>-9999.00</td>\n",
       "      <td>...</td>\n",
       "      <td>0</td>\n",
       "      <td>0</td>\n",
       "      <td>0</td>\n",
       "      <td>0</td>\n",
       "      <td>0</td>\n",
       "      <td>0</td>\n",
       "      <td>0</td>\n",
       "      <td>39</td>\n",
       "      <td>1.0</td>\n",
       "      <td>2017-10-01</td>\n",
       "    </tr>\n",
       "    <tr>\n",
       "      <th>9</th>\n",
       "      <td>2017-10-01 09:00:00</td>\n",
       "      <td>0.0</td>\n",
       "      <td>26.56</td>\n",
       "      <td>26</td>\n",
       "      <td>1</td>\n",
       "      <td>17.33</td>\n",
       "      <td>237</td>\n",
       "      <td>0.60</td>\n",
       "      <td>-9999.0</td>\n",
       "      <td>1009.95</td>\n",
       "      <td>...</td>\n",
       "      <td>0</td>\n",
       "      <td>0</td>\n",
       "      <td>0</td>\n",
       "      <td>0</td>\n",
       "      <td>0</td>\n",
       "      <td>0</td>\n",
       "      <td>0</td>\n",
       "      <td>39</td>\n",
       "      <td>2.0</td>\n",
       "      <td>2017-10-01</td>\n",
       "    </tr>\n",
       "    <tr>\n",
       "      <th>10</th>\n",
       "      <td>2017-10-01 10:00:00</td>\n",
       "      <td>0.0</td>\n",
       "      <td>32.03</td>\n",
       "      <td>31</td>\n",
       "      <td>0</td>\n",
       "      <td>18.09</td>\n",
       "      <td>281</td>\n",
       "      <td>2.63</td>\n",
       "      <td>-9999.0</td>\n",
       "      <td>-9999.00</td>\n",
       "      <td>...</td>\n",
       "      <td>0</td>\n",
       "      <td>0</td>\n",
       "      <td>0</td>\n",
       "      <td>0</td>\n",
       "      <td>0</td>\n",
       "      <td>0</td>\n",
       "      <td>0</td>\n",
       "      <td>39</td>\n",
       "      <td>2.0</td>\n",
       "      <td>2017-10-01</td>\n",
       "    </tr>\n",
       "  </tbody>\n",
       "</table>\n",
       "<p>5 rows × 39 columns</p>\n",
       "</div>"
      ],
      "text/plain": [
       "        datetime_local  cloud_cover  apparent_temperature  temperature  \\\n",
       "6  2017-10-01 06:00:00          0.0                 21.87           22   \n",
       "7  2017-10-01 07:00:00          0.0                 25.23           25   \n",
       "8  2017-10-01 08:00:00          0.0                 24.29           24   \n",
       "9  2017-10-01 09:00:00          0.0                 26.56           26   \n",
       "10 2017-10-01 10:00:00          0.0                 32.03           31   \n",
       "\n",
       "    humidity  dew_point  wind_bearing  wind_speed  wind_gust  pressure  ...  \\\n",
       "6          1      17.45         -9999    -9999.00    -9999.0   1008.65  ...   \n",
       "7          1      17.71         -9999    -9999.00    -9999.0  -9999.00  ...   \n",
       "8          1      18.94         -9999    -9999.00    -9999.0  -9999.00  ...   \n",
       "9          1      17.33           237        0.60    -9999.0   1009.95  ...   \n",
       "10         0      18.09           281        2.63    -9999.0  -9999.00  ...   \n",
       "\n",
       "    icon_Overcast  icon_Partly Cloudy  icon_Possible Drizzle and Humid  \\\n",
       "6               0                   0                                0   \n",
       "7               0                   0                                0   \n",
       "8               0                   0                                0   \n",
       "9               0                   0                                0   \n",
       "10              0                   0                                0   \n",
       "\n",
       "    icon_Possible Light Rain  icon_Possible Light Rain and Humid  icon_Rain  \\\n",
       "6                          0                                   0          0   \n",
       "7                          0                                   0          0   \n",
       "8                          0                                   0          0   \n",
       "9                          0                                   0          0   \n",
       "10                         0                                   0          0   \n",
       "\n",
       "    icon_Rain and Humid  week_of_year  pahar       Date  \n",
       "6                     0            39    1.0 2017-10-01  \n",
       "7                     0            39    1.0 2017-10-01  \n",
       "8                     0            39    1.0 2017-10-01  \n",
       "9                     0            39    2.0 2017-10-01  \n",
       "10                    0            39    2.0 2017-10-01  \n",
       "\n",
       "[5 rows x 39 columns]"
      ]
     },
     "execution_count": 151,
     "metadata": {},
     "output_type": "execute_result"
    }
   ],
   "source": []
  }
 ],
 "metadata": {
  "kernelspec": {
   "display_name": "Python 3",
   "language": "python",
   "name": "python3"
  },
  "language_info": {
   "codemirror_mode": {
    "name": "ipython",
    "version": 3
   },
   "file_extension": ".py",
   "mimetype": "text/x-python",
   "name": "python",
   "nbconvert_exporter": "python",
   "pygments_lexer": "ipython3",
   "version": "3.7.3"
  }
 },
 "nbformat": 4,
 "nbformat_minor": 2
}
